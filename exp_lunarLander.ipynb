{
 "cells": [
  {
   "cell_type": "code",
   "execution_count": null,
   "metadata": {},
   "outputs": [],
   "source": [
    "from warnings import simplefilter \n",
    "simplefilter(action='ignore', category=FutureWarning)\n",
    "\n",
    "from gym_reachability import gym_reachability  # Custom Gym env.\n",
    "import gym\n",
    "import numpy as np\n",
    "import matplotlib\n",
    "import matplotlib.pyplot as plt\n",
    "import torch\n",
    "from collections import namedtuple\n",
    "import os\n",
    "\n",
    "from KC_DQN.DDQN import DDQN\n",
    "from KC_DQN.config import dqnConfig\n",
    "\n",
    "import time\n",
    "timestr = time.strftime(\"%Y-%m-%d-%H_%M_%S\")"
   ]
  },
  {
   "cell_type": "code",
   "execution_count": null,
   "metadata": {},
   "outputs": [],
   "source": [
    "#== CONFIGURATION ==\n",
    "toEnd = True\n",
    "env_name = \"lunar_lander_reachability-v0\"\n",
    "device = torch.device(\"cuda\" if torch.cuda.is_available() else \"cpu\")\n",
    "maxUpdates = 4000000\n",
    "maxSteps = 100\n",
    "updatePeriod = int(maxUpdates / 20)\n",
    "updatePeriodHalf = int(updatePeriod/2)\n",
    "\n",
    "CONFIG = dqnConfig(DEVICE=device, ENV_NAME=env_name, \n",
    "                   MAX_UPDATES=maxUpdates, MAX_EP_STEPS=maxSteps,\n",
    "                   BATCH_SIZE=100, MEMORY_CAPACITY=10000,\n",
    "                   GAMMA=.9, GAMMA_PERIOD=updatePeriod, GAMMA_END=0.999999,\n",
    "                   EPS_PERIOD=updatePeriod, EPS_DECAY=0.6,\n",
    "                   LR_C=1e-3, LR_C_PERIOD=updatePeriod, LR_C_DECAY=0.8,\n",
    "                   MAX_MODEL=50)\n",
    "\n",
    "modelsFolder = 'lunarLander/RA/{:s}'.format(timestr)\n",
    "figureFolder = 'figure/lunarLander/RA/{:s}'.format(timestr)\n",
    "os.makedirs(figureFolder, exist_ok=True)\n",
    "\n",
    "#== REPORT ==\n",
    "print(CONFIG.MAX_UPDATES, updatePeriod, CONFIG.MAX_EP_STEPS)\n",
    "fig, ax = plt.subplots(1, 3, figsize=(12,2), sharex=True)\n",
    "base = updatePeriodHalf\n",
    "numUpdates = int(maxUpdates/base)\n",
    "\n",
    "eps = np.zeros(numUpdates)\n",
    "lr = np.zeros(numUpdates)\n",
    "gamma = np.zeros(numUpdates)\n",
    "eps_tmp = CONFIG.EPSILON\n",
    "lr_tmp = CONFIG.LR_C\n",
    "gamma_tmp = CONFIG.GAMMA\n",
    "for i in range(numUpdates):\n",
    "    if i != 0 and i % int(CONFIG.EPS_PERIOD/base) == 0:\n",
    "        eps_tmp = max(eps_tmp*CONFIG.EPS_DECAY, 0.05)\n",
    "    if i != 0 and i % int(CONFIG.LR_C_PERIOD/base) == 0:\n",
    "        lr_tmp = max(lr_tmp*CONFIG.LR_C_DECAY, 1e-5)\n",
    "    if i != 0 and i % int(CONFIG.GAMMA_PERIOD/base) == 0:\n",
    "        gamma_tmp = min(1-(1-gamma_tmp)*CONFIG.GAMMA_DECAY, 0.99999999)\n",
    "    eps[i] = eps_tmp\n",
    "    lr[i] = lr_tmp\n",
    "    gamma[i] = gamma_tmp\n",
    "ax[0].plot(np.arange(numUpdates), eps)\n",
    "ax[1].plot(np.arange(numUpdates), lr)\n",
    "ax[2].plot(np.arange(numUpdates), gamma)\n",
    "ax[0].set_title(r'$\\epsilon$')\n",
    "ax[1].set_title(r'$\\alpha$')\n",
    "ax[2].set_title(r'$\\gamma$')\n",
    "ax[1].set_xlabel('#Updates (x{:d})'.format(base))\n",
    "plt.show()\n",
    "\n",
    "print(gamma[-1], lr[-1])"
   ]
  },
  {
   "cell_type": "code",
   "execution_count": null,
   "metadata": {},
   "outputs": [],
   "source": [
    "env = gym.make(env_name, device=device, mode='RA', doneType='toEnd')\n",
    "s_dim = env.observation_space.shape[0]\n",
    "action_num = env.action_space.n\n",
    "\n",
    "action_list = np.arange(action_num)\n",
    "print(s_dim, action_num)"
   ]
  },
  {
   "cell_type": "code",
   "execution_count": null,
   "metadata": {},
   "outputs": [],
   "source": [
    "#== AGENT ==\n",
    "vmin = -1\n",
    "vmax = 1\n",
    "reportPeriod = 100000\n",
    "checkPeriod = 100000\n",
    "print(reportPeriod)\n",
    "agent=DDQN(s_dim, action_num, CONFIG, action_list, mode='RA', model='TanhTwo')\n",
    "\n",
    "_, trainProgress = agent.learn(env, MAX_UPDATES=maxUpdates, MAX_EP_STEPS=CONFIG.MAX_EP_STEPS, addBias=False,\n",
    "                                  warmupQ=False, toEnd=toEnd,\n",
    "                                  vmin=vmin, vmax=vmax, showBool=False,\n",
    "                                  reportPeriod=reportPeriod, checkPeriod=checkPeriod, outFolder=modelsFolder)"
   ]
  },
  {
   "cell_type": "code",
   "execution_count": null,
   "metadata": {},
   "outputs": [],
   "source": []
  }
 ],
 "metadata": {
  "kernelspec": {
   "display_name": "Python 3",
   "language": "python",
   "name": "python3"
  },
  "language_info": {
   "codemirror_mode": {
    "name": "ipython",
    "version": 3
   },
   "file_extension": ".py",
   "mimetype": "text/x-python",
   "name": "python",
   "nbconvert_exporter": "python",
   "pygments_lexer": "ipython3",
   "version": "3.6.10"
  }
 },
 "nbformat": 4,
 "nbformat_minor": 4
}
